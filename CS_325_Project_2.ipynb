{
  "nbformat": 4,
  "nbformat_minor": 0,
  "metadata": {
    "colab": {
      "provenance": [],
      "include_colab_link": true
    },
    "kernelspec": {
      "name": "python3",
      "display_name": "Python 3"
    }
  },
  "cells": [
    {
      "cell_type": "markdown",
      "metadata": {
        "id": "view-in-github",
        "colab_type": "text"
      },
      "source": [
        "<a href=\"https://colab.research.google.com/github/kauercurtis/CS-325-Algorithms/blob/main/CS_325_Project_2.ipynb\" target=\"_parent\"><img src=\"https://colab.research.google.com/assets/colab-badge.svg\" alt=\"Open In Colab\"/></a>"
      ]
    },
    {
      "cell_type": "markdown",
      "metadata": {
        "id": "JCbmnarnSIAJ"
      },
      "source": [
        "```\n",
        "< Curtis Kauer >\n",
        "< kauerc@oregonstate.edu >\n",
        "Programming Exercise 2\n",
        "CS 325 Algorithms Spring 2023\n",
        "```"
      ]
    },
    {
      "cell_type": "markdown",
      "metadata": {
        "id": "6XK6f10_PDzo"
      },
      "source": [
        "# Part I: Implement the brute-force 0/1 Knapsack problem"
      ]
    },
    {
      "cell_type": "markdown",
      "source": [],
      "metadata": {
        "id": "05y3eqe_XOJ-"
      }
    },
    {
      "cell_type": "markdown",
      "metadata": {
        "id": "-3VuQ5s4U3g7"
      },
      "source": [
        "Complete the brute force implementation of the 0/1 Knapsack problem."
      ]
    },
    {
      "cell_type": "code",
      "metadata": {
        "id": "A6emPLIoPqvz"
      },
      "source": [
        "#max - helper function that determines the greater value\n",
        "#param1 - value1 - the value to compare to value2\n",
        "#param2 - value2 - the value to compare to value1\n",
        "#return - returns the greatest value\n",
        "def max(value1, value2):\n",
        "  if value1 > value2:\n",
        "    return value1;\n",
        "  return value2;\n",
        "\n",
        "#pack - Returns the maximum value that can be put in a knapsack of capacity W\n",
        "#param1 - W - max capacity\n",
        "#param2 - weights - a list of the weights parallel to the list of values\n",
        "#param3 - values - a list of values parallel to the list of weights\n",
        "#param4 - n - the size of both lists\n",
        "#param5 - the starting index to recursively attempt every combination in relation to\n",
        "#uses max() helper function\n",
        "def pack(W, weights, values, n, index):\n",
        "#base case\n",
        "  if index == n or W <= 0:\n",
        "    return 0;\n",
        "#if the weight of current item is less than or equal to max capacity\n",
        "#vInclude = included item in maximum benefit\n",
        "#vExclude = excluded item from maximum benefit\n",
        "  if weights[index] <= W:\n",
        "    vInclude = pack(W - weights[index], weights, values, n, index + 1) + values[index];\n",
        "    vExclude = pack(W, weights, values, n, index + 1);\n",
        "    return max(vInclude, vExclude);\n",
        "  else:\n",
        "#else the item is excluded for being more than the max capacity\n",
        "    vExclude = pack(W, weights, values, n, index + 1);\n",
        "    return vExclude;\n",
        "\n",
        "#Wrapper function for pack()\n",
        "# Returns the maximum value that can be put in a knapsack of capacity W\n",
        "def knapsack_bf(W, weights, values, n):\n",
        "  # your code here\n",
        "  return pack(W, weights, values, n, 0);"
      ],
      "execution_count": null,
      "outputs": []
    },
    {
      "cell_type": "markdown",
      "metadata": {
        "id": "Cix--sL9vjrZ"
      },
      "source": [
        "# Brute Force Test 1"
      ]
    },
    {
      "cell_type": "code",
      "metadata": {
        "id": "oqWwxhGHnMW-",
        "colab": {
          "base_uri": "https://localhost:8080/"
        },
        "outputId": "54c28060-d81e-466e-b4b6-4df037025ef1"
      },
      "source": [
        "import time\n",
        "values  = [50, 100, 150]  # values\n",
        "weights = [10, 20, 30]    # weights\n",
        "W = 50   # weight capacity\n",
        "n = len(values)\n",
        "t = time.process_time()\n",
        "result = knapsack_bf(W , weights , values , n)\n",
        "print(result);\n",
        "assert result == 250, 'Failed Brute Force Test 1'\n",
        "print('Passed BF Test 1 with', result, 'in', '{:.5f}'.format(time.process_time()-t), 'seconds')"
      ],
      "execution_count": null,
      "outputs": [
        {
          "output_type": "stream",
          "name": "stdout",
          "text": [
            "250\n",
            "Passed BF Test 1 with 250 in 0.00139 seconds\n"
          ]
        }
      ]
    },
    {
      "cell_type": "markdown",
      "metadata": {
        "id": "zLeyY6wkvm5M"
      },
      "source": [
        "#Brute Force Test 2"
      ]
    },
    {
      "cell_type": "code",
      "metadata": {
        "id": "4JKtOTYIvq6l",
        "colab": {
          "base_uri": "https://localhost:8080/"
        },
        "outputId": "3e099ef9-3164-4063-9dbc-bd64b7fe7761"
      },
      "source": [
        "import time\n",
        "values  = [1, 3, 7, 11, 14, 17, 20, 25, 37, 42, 50]      # values\n",
        "weights = [1, 4, 6, 3, 15, 3, 42, 7, 9, 10, 72]    # weights\n",
        "W = 1500  # weight capacity\n",
        "n = len(values)\n",
        "t = time.process_time()\n",
        "result = knapsack_bf(W , weights , values , n)\n",
        "assert result == 227, 'Failed Brute Force Test 1'\n",
        "print('Passed BF Test 1 with', result, 'in', '{:.5f}'.format(time.process_time()-t), 'seconds')"
      ],
      "execution_count": null,
      "outputs": [
        {
          "output_type": "stream",
          "name": "stdout",
          "text": [
            "Passed BF Test 1 with 227 in 0.00185 seconds\n"
          ]
        }
      ]
    },
    {
      "cell_type": "markdown",
      "metadata": {
        "id": "YhVO3jEOPQOP"
      },
      "source": [
        "\n",
        "\n",
        "---\n",
        "\n",
        "\n",
        "# Part II: Implement dynamic-programming 0/1 Knapsack problem"
      ]
    },
    {
      "cell_type": "markdown",
      "metadata": {
        "id": "kDELE8NmVBgv"
      },
      "source": [
        "Complete the dynamic programming implementation of the 0/1 Knapsack problem."
      ]
    },
    {
      "cell_type": "code",
      "metadata": {
        "id": "vrp2N3CqPXYc"
      },
      "source": [
        "# Returns the maximum value that can be put in a knapsack of capacity W\n",
        "#param1 - W - max capacity\n",
        "#param2 - weights - a list of the weights parallel to the list of values\n",
        "#param3 - values - a list of values parallel to the list of weights\n",
        "#param4 - n - the size of both lists\n",
        "#uses max() helper function\n",
        "def knapsack_dp(W, weights, values, n):\n",
        "  # your code here\n",
        "  #new multidimensional list\n",
        "  table = [[0 for foo in range(W + 1)] for bar in range(n + 1)]\n",
        "\n",
        "#traverse the list by row\n",
        "  for index in range(n + 1):\n",
        "#traverse the list by each column in the row\n",
        "    for currentWeight in range(W + 1):\n",
        "      if index == 0 or currentWeight == 0:\n",
        "        table[index][currentWeight] = 0\n",
        "      elif weights[index - 1] <= currentWeight:\n",
        "        table[index][currentWeight] = max(values[index - 1] + table[index - 1][currentWeight - weights[index - 1]], table[index - 1][currentWeight]);\n",
        "      else:\n",
        "        table[index][currentWeight] = table[index - 1][currentWeight]\n",
        "#max value is the last value in the multidimensional array\n",
        "  return table[n][W]\n"
      ],
      "execution_count": null,
      "outputs": []
    },
    {
      "cell_type": "markdown",
      "metadata": {
        "id": "_La4QLRAOqr3"
      },
      "source": [
        "#Dynamic Programming Test 1"
      ]
    },
    {
      "cell_type": "code",
      "metadata": {
        "id": "FY3MDj3BOlUQ",
        "colab": {
          "base_uri": "https://localhost:8080/"
        },
        "outputId": "ae5c69dd-4b06-468d-9634-d967eac6627f"
      },
      "source": [
        "import time\n",
        "values  = [50, 100, 150]  # values\n",
        "weights = [10, 20, 30]    # weights\n",
        "W = 50   # weight capacity\n",
        "n = len(values)\n",
        "t = time.process_time()\n",
        "result = knapsack_dp(W , weights , values , n)\n",
        "assert result == 250, 'Failed Dynamic Programming Test 1'\n",
        "print('Passed BF Test 1 with', result, 'in', '{:.5f}'.format(time.process_time()-t), 'seconds')"
      ],
      "execution_count": null,
      "outputs": [
        {
          "output_type": "stream",
          "name": "stdout",
          "text": [
            "Passed BF Test 1 with 250 in 0.00048 seconds\n"
          ]
        }
      ]
    },
    {
      "cell_type": "markdown",
      "metadata": {
        "id": "iDmqT8NXOEh3"
      },
      "source": [
        "#Dynamic Programming Test 2"
      ]
    },
    {
      "cell_type": "code",
      "metadata": {
        "id": "Q1WuthgXOIud",
        "colab": {
          "base_uri": "https://localhost:8080/"
        },
        "outputId": "b03df9bb-ad7d-4d36-cd60-1595ac1a558c"
      },
      "source": [
        "import time\n",
        "values  = [1, 3, 7, 11, 14, 17, 20, 25, 37, 42, 50]      # values\n",
        "weights = [1, 4, 6, 3, 15, 3, 42, 7, 9, 10, 72]    # weights\n",
        "W = 1500  # weight capacity\n",
        "t = time.process_time()\n",
        "result = knapsack_dp(W , weights , values , len(values))\n",
        "assert result == 227, 'Failed Dynamic Programming Test 2'\n",
        "print('Passed DP Test 2 with', result, 'in', '{:.5f}'.format(time.process_time()-t), 'seconds')"
      ],
      "execution_count": null,
      "outputs": [
        {
          "output_type": "stream",
          "name": "stdout",
          "text": [
            "Passed DP Test 2 with 227 in 0.01343 seconds\n"
          ]
        }
      ]
    },
    {
      "cell_type": "markdown",
      "metadata": {
        "id": "3wFD67ZHMOeH"
      },
      "source": [
        "\n",
        "\n",
        "---\n",
        "\n",
        "\n",
        "#Part III: Graph the Runtime\n",
        "\n",
        "Run this code below after completeing your **brute force** and **dynamic programming** implementations of the 0/1 Knapsack problem.\n",
        "\n",
        "You do not need to write code. Please answer the brief questions below the block."
      ]
    },
    {
      "cell_type": "code",
      "metadata": {
        "id": "V0rhhZ15ICKt",
        "colab": {
          "base_uri": "https://localhost:8080/",
          "height": 472
        },
        "outputId": "b8912057-ed3e-4c56-fa1c-9492977f8a79"
      },
      "source": [
        "import time\n",
        "import matplotlib.pyplot as plt\n",
        "import random\n",
        "\n",
        "# you can play with these constants to change the nature of the data.\n",
        "value_step_size = 5\n",
        "weight_step_size = 3\n",
        "capacity_scalar = 3\n",
        "\n",
        "# function that runs a set of functions, times their output, and\n",
        "#    graphs time vs input size\n",
        "def time_algorithms(fs, fnames):\n",
        "  if len(fs)!=len(fnames):\n",
        "    print(\"Error: functions and name lists must be the same size!\")\n",
        "    return;\n",
        "  fcount = 0\n",
        "  fig, ax1 = plt.subplots()\n",
        "  ax1.set_title('Knapsack 0/1 Problem')\n",
        "  ax1.set_xlabel('n')\n",
        "  ax1.set_ylabel('time (s)')\n",
        "  for f in fs:\n",
        "    # randomly generates input data of different sizes\n",
        "    elements = list()\n",
        "    times = list()\n",
        "    for i in range(1, 50):\n",
        "\n",
        "        # generate some data\n",
        "        values = list(range(0,5*i,value_step_size))\n",
        "        weights = list(range(1,5*i,weight_step_size))\n",
        "        #random.shuffle(weights)\n",
        "        n = len(values)\n",
        "        W = capacity_scalar * i;\n",
        "\n",
        "        # run the algorithm and time it\n",
        "        start = time.perf_counter()\n",
        "        f(W, weights, values, n)\n",
        "        end = time.perf_counter()\n",
        "\n",
        "        # save results for graphing\n",
        "        elements.append(n)\n",
        "        times.append(end-start)\n",
        "\n",
        "    # graph the complexity\n",
        "    ax1.plot(elements, times, label = fnames[fcount])\n",
        "    fcount = fcount + 1\n",
        "\n",
        "  ax1.grid()\n",
        "  ax1.legend()\n",
        "  fig.show()\n",
        "\n",
        "\n",
        "# run the graph to plot BF vs DP.\n",
        "fs = [knapsack_bf, knapsack_dp]\n",
        "fnames = ['brute force', 'dynamic programming']\n",
        "time_algorithms(fs, fnames)\n",
        "\n"
      ],
      "execution_count": null,
      "outputs": [
        {
          "output_type": "display_data",
          "data": {
            "text/plain": [
              "<Figure size 640x480 with 1 Axes>"
            ],
            "image/png": "[encoded data removed]"
          },
          "metadata": {}
        }
      ]
    },
    {
      "cell_type": "markdown",
      "metadata": {
        "id": "5Ih0KIMrR_Xa"
      },
      "source": [
        "\n",
        "\n",
        "---\n",
        "\n",
        "\n",
        "#Analysis"
      ]
    },
    {
      "cell_type": "markdown",
      "metadata": {
        "id": "gEtUDQ7wRH12"
      },
      "source": [
        "**Analysis Question 1: Brute Force**\n",
        "\n",
        "*What is the complexity (big-O) of the brute force approach?  Explain/show/derive how you arrived at this conclusion. Justify your answer (in words and math) for full credit.*"
      ]
    },
    {
      "cell_type": "markdown",
      "metadata": {
        "id": "56vduUNLRpdh"
      },
      "source": [
        "The time complexity of the brute force I wrote is O(2^n). This is because brute force mentality is to attempt every possible combination of values.\n",
        "Considering that there are 2 outcomes for every value in a set. Its either in or its out.\n",
        "\n",
        "let S = {item1, item2, ...., itemN} = 2 * 2 * 2 * ..... 2^n\n",
        "\n",
        "This means that there are a total of 2^n possible combinations that the algorithm has to iterate through until reaching its base case."
      ]
    },
    {
      "cell_type": "markdown",
      "metadata": {
        "id": "iLLuiWd3RgKN"
      },
      "source": [
        "**Analysis Question 2: Dynamic Programming**\n",
        "\n",
        "*What is the complexity (big-O) of the dynamic programming approach?  Explain/show/derive how you arrived at this conclusion. Justify your answer (in words and\n",
        "math) for full credit.*"
      ]
    },
    {
      "cell_type": "markdown",
      "metadata": {
        "id": "xdwsXXScRxFl"
      },
      "source": [
        "The time complexity of the dynamic programming approach is O(n * W). This is because the algorithm traverses through a multi dimensional list that has an area of n * maxCapacity.\n",
        "Taking the syntax of the nested for loops from the written function,\n",
        "\n",
        "for index in range(n + 1): = O(n)  \n",
        "for currentWeight in range(W + 1): = O(W)\n",
        "\n",
        "= O(n * W)"
      ]
    }
  ]
}