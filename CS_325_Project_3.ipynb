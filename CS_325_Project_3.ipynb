{
  "nbformat": 4,
  "nbformat_minor": 0,
  "metadata": {
    "colab": {
      "provenance": [],
      "include_colab_link": true
    },
    "kernelspec": {
      "name": "python3",
      "display_name": "Python 3"
    }
  },
  "cells": [
    {
      "cell_type": "markdown",
      "metadata": {
        "id": "view-in-github",
        "colab_type": "text"
      },
      "source": [
        "<a href=\"https://colab.research.google.com/github/kauercurtis/CS-325-Algorithms/blob/main/CS_325_Project_3.ipynb\" target=\"_parent\"><img src=\"https://colab.research.google.com/assets/colab-badge.svg\" alt=\"Open In Colab\"/></a>"
      ]
    },
    {
      "cell_type": "markdown",
      "metadata": {
        "id": "dcU_tVExEtOd"
      },
      "source": [
        "```\n",
        "< Curtis Kauer >\n",
        "< kauerc@oregonstate.edu >\n",
        "Programming Exercise 3\n",
        "CS 325 Algorithms Spring 2023\n",
        "CS 325 course materials: including lectures, textbook, and supplementary CLRS text\n",
        "```"
      ]
    },
    {
      "cell_type": "markdown",
      "metadata": {
        "id": "OjDVjMahEzHc"
      },
      "source": [
        "#Part I: Implement BFS and DFS"
      ]
    },
    {
      "cell_type": "markdown",
      "metadata": {
        "id": "KoSfmiIRMdPB"
      },
      "source": [
        "Complete the implementations of `BFS` and `DFS` below. Make sure you pass all test below."
      ]
    },
    {
      "cell_type": "code",
      "metadata": {
        "id": "y4sGXzgYEjxn"
      },
      "source": [
        "from collections import defaultdict\n",
        "#contains - helper function that checks for a value in a list\n",
        "#param1 - lst - the list to look for the value in\n",
        "#param2 - the value being searched\n",
        "#return - returns 1 if found, and 0 if not\n",
        "def contains(lst, value):\n",
        "#if the list is empty the value isn't there\n",
        "    if(len(lst) <= 0):\n",
        "        return 0;\n",
        "    index = 0;\n",
        "#traverse list until either value is found or list is competely searched\n",
        "    while index < len(lst) - 1 and lst[index] != value:\n",
        "      index = index + 1;\n",
        "#if value found return 1\n",
        "    if lst[index] == value:\n",
        "      return 1;\n",
        "#if value not found return 0\n",
        "    return 0;\n",
        "\n",
        "\n",
        "# Representation of a directed graph as an adjacency list\n",
        "class Graph:\n",
        "\n",
        "    # construct the graph\n",
        "    def __init__(self):\n",
        "        # store graph as dictionary with default values\n",
        "        self.graph = defaultdict(list)\n",
        "\n",
        "    # add an edge from u to v to graph\n",
        "    def addEdge(self,u,v):\n",
        "        self.graph[u].append(v)\n",
        "#DFS_Visit - visits all vertices of a graph via Depth First Search\n",
        "#param1 - self - the graph instance to perform the search on\n",
        "#param2 - path - the sequence of vertices visted\n",
        "#param3 - vertex - the starting vertex\n",
        "#Recursive Function\n",
        "    def DFS_Visit(self, path, vertex):\n",
        "#check if the vertex has been visited\n",
        "      if vertex not in path:\n",
        "        path.append(vertex);\n",
        "#visit adjacent vertices - recursive call\n",
        "        for adjacent in self.graph[vertex]:\n",
        "          self.DFS_Visit(path, adjacent);\n",
        "\n",
        "# return the BFS path (list) of the graph starting at s\n",
        "#BFS - member function that performs a breath first search on a graph object\n",
        "#param1 - self - the instance of Graph class being searched\n",
        "#param2 - s - the starting vertex/node\n",
        "#return - path - the sequential traversal of the search\n",
        "    def BFS(self, s):\n",
        "#path is all visited vertices\n",
        "      path = [];\n",
        "\n",
        "      # YOUR CODE HERE\n",
        "#new queue to hold every \"frontier\"\n",
        "      queue = [s];\n",
        "#traverse graph until every vertex in every frontier is visited\n",
        "      while len(queue) > 0 and len(path) != len(self.graph):\n",
        "#if a vertex is already visited, just dequeue and go to next in queue\n",
        "        if contains(path, queue[0]) == 1:\n",
        "#dequeue\n",
        "          del queue[0];\n",
        "          continue;\n",
        "#visit first vertex in the queue\n",
        "        path.append(queue[0]);\n",
        "#vertex is adjacent to other vertices\n",
        "        adjacent = queue[0];\n",
        "#dequeue\n",
        "        del queue[0];\n",
        "#add adjacent vertices to the first in queue to the queue\n",
        "        for vertex in self.graph[adjacent]:\n",
        "          queue.append(vertex);\n",
        "      return path;\n",
        "\n",
        "    #  return the DFS path (list) of the graph starting at s\n",
        "#DFS - wrapper function for DFS_Visit() which performs a Depth First Search on a graph object\n",
        "#param1 - self - the instance of graph performing Depth First Search on\n",
        "#param2 - s - the starting vertex/node\n",
        "#return - path - the sequence of vertices visited\n",
        "    def DFS(self, s):\n",
        "      path = []\n",
        "      # YOUR CODE HERE\n",
        "      #    add helper functions as needed\n",
        "      self.DFS_Visit(path, s);\n",
        "      return path;"
      ],
      "execution_count": null,
      "outputs": []
    },
    {
      "cell_type": "markdown",
      "metadata": {
        "id": "XKn-R_g9L9QH"
      },
      "source": [
        "#Part II: Run Tests"
      ]
    },
    {
      "cell_type": "code",
      "metadata": {
        "id": "sZKkBEa0PxWH"
      },
      "source": [
        "# Run this code block\n",
        "\n",
        "import time\n",
        "\n",
        "# Build a graph\n",
        "g1 = Graph()\n",
        "g1.addEdge(0, 1); g1.addEdge(0, 2);\n",
        "g1.addEdge(1, 0); g1.addEdge(1, 2); g1.addEdge(1, 3);\n",
        "g1.addEdge(2, 0); g1.addEdge(2, 1); g1.addEdge(2, 4);\n",
        "g1.addEdge(3, 3); g1.addEdge(3, 4)\n",
        "g1.addEdge(4, 1); g1.addEdge(4, 2); g1.addEdge(4, 3);\n",
        "\n",
        "# Build another graph\n",
        "g2 = Graph()\n",
        "g2.addEdge(0, 1); g2.addEdge(0, 2); g2.addEdge(0, 3); g2.addEdge(0, 4);\n",
        "g2.addEdge(0, 6); g2.addEdge(0, 8); g2.addEdge(0, 9);\n",
        "g2.addEdge(1, 0); g2.addEdge(1, 1); g2.addEdge(1, 3); g2.addEdge(1, 7);\n",
        "g2.addEdge(1, 8); g2.addEdge(1, 9);\n",
        "g2.addEdge(2, 1); g2.addEdge(2, 2); g2.addEdge(2, 5); g2.addEdge(2, 9);\n",
        "g2.addEdge(3, 1); g2.addEdge(3, 4); g2.addEdge(3, 7); g2.addEdge(3, 8);\n",
        "g2.addEdge(4, 0); g2.addEdge(4, 1); g2.addEdge(4, 2); g2.addEdge(4, 3);\n",
        "g2.addEdge(4, 6); g2.addEdge(4, 7); g2.addEdge(4, 9);\n",
        "g2.addEdge(5, 2); g2.addEdge(5, 6); g2.addEdge(5, 8);\n",
        "g2.addEdge(6, 1); g2.addEdge(6, 4); g2.addEdge(6, 8); g2.addEdge(6, 9);\n",
        "g2.addEdge(7, 0); g2.addEdge(7, 3); g2.addEdge(7, 4); g2.addEdge(7, 8);\n",
        "g2.addEdge(8, 3); g2.addEdge(8, 4); g2.addEdge(8, 5);\n",
        "g2.addEdge(9, 1); g2.addEdge(9, 3); g2.addEdge(9, 3); g2.addEdge(9, 5);\n",
        "g2.addEdge(9, 6); g2.addEdge(9, 7);"
      ],
      "execution_count": null,
      "outputs": []
    },
    {
      "cell_type": "markdown",
      "metadata": {
        "id": "2QlORDbVP5LG"
      },
      "source": [
        "**Breadth First Tests**"
      ]
    },
    {
      "cell_type": "code",
      "metadata": {
        "id": "q8_3DPDnFj1F",
        "colab": {
          "base_uri": "https://localhost:8080/"
        },
        "outputId": "4cdd9130-4cc1-42f9-eadf-63bc665e21ce"
      },
      "source": [
        "# Run breadth first search\n",
        "t = time.process_time()\n",
        "path = g1.BFS(2)\n",
        "print (\"BFS path is\", path)\n",
        "assert path == [2, 0, 1, 4, 3], 'Failed Breadth First Test 1'\n",
        "print('Passed BFS Test 1 in', '{:.5f}'.format(time.process_time()-t), 'seconds')"
      ],
      "execution_count": null,
      "outputs": [
        {
          "output_type": "stream",
          "name": "stdout",
          "text": [
            "BFS path is [2, 0, 1, 4, 3]\n",
            "Passed BFS Test 1 in 0.00042 seconds\n"
          ]
        }
      ]
    },
    {
      "cell_type": "code",
      "metadata": {
        "id": "L72EGKa0RhJY",
        "colab": {
          "base_uri": "https://localhost:8080/"
        },
        "outputId": "05f3d1fb-25a9-4432-a2ac-1c1307438a3b"
      },
      "source": [
        "# Run breadth first search\n",
        "t = time.process_time()\n",
        "path = g2.BFS(9)\n",
        "print (\"BFS path is\", path)\n",
        "assert path == [9, 1, 3, 5, 6, 7, 0, 8, 4, 2], 'Failed Breadth First Test 2'\n",
        "print('Passed BFS Test 2 in', '{:.5f}'.format(time.process_time()-t), 'seconds')"
      ],
      "execution_count": null,
      "outputs": [
        {
          "output_type": "stream",
          "name": "stdout",
          "text": [
            "BFS path is [9, 1, 3, 5, 6, 7, 0, 8, 4, 2]\n",
            "Passed BFS Test 2 in 0.00041 seconds\n"
          ]
        }
      ]
    },
    {
      "cell_type": "markdown",
      "metadata": {
        "id": "V1EsauKoP-1n"
      },
      "source": [
        "**Depth First Tests**"
      ]
    },
    {
      "cell_type": "code",
      "metadata": {
        "id": "LcEn8nwcP-g_",
        "colab": {
          "base_uri": "https://localhost:8080/"
        },
        "outputId": "72341319-0106-4c52-fa9a-e984a26d3a6f"
      },
      "source": [
        "# Run depth first search\n",
        "t = time.process_time()\n",
        "path = g1.DFS(2)\n",
        "print (\"DFS path is\", path)\n",
        "assert path == [2, 0, 1, 3, 4], 'Failed Depth First Test 1'\n",
        "print('Passed DFS Test 1 in', '{:.5f}'.format(time.process_time()-t), 'seconds')"
      ],
      "execution_count": null,
      "outputs": [
        {
          "output_type": "stream",
          "name": "stdout",
          "text": [
            "DFS path is [2, 0, 1, 3, 4]\n",
            "Passed DFS Test 1 in 0.00297 seconds\n"
          ]
        }
      ]
    },
    {
      "cell_type": "code",
      "metadata": {
        "id": "g0UzyJhlR4ko",
        "colab": {
          "base_uri": "https://localhost:8080/"
        },
        "outputId": "e04da829-09cc-42d7-de7a-fef68ce9a1b1"
      },
      "source": [
        "# Run depth first search\n",
        "t = time.process_time()\n",
        "path = g2.DFS(9)\n",
        "print (\"DFS path is\", path)\n",
        "assert path == [9, 1, 0, 2, 5, 6, 4, 3, 7, 8], 'Failed Depth First Test 2'\n",
        "print('Passed DFS Test 2 in', '{:.5f}'.format(time.process_time()-t), 'seconds')"
      ],
      "execution_count": null,
      "outputs": [
        {
          "output_type": "stream",
          "name": "stdout",
          "text": [
            "DFS path is [9, 1, 0, 2, 5, 6, 4, 3, 7, 8]\n",
            "Passed DFS Test 2 in 0.00041 seconds\n"
          ]
        }
      ]
    }
  ]
}